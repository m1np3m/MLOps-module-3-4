{
 "cells": [
  {
   "cell_type": "code",
   "execution_count": null,
   "metadata": {},
   "outputs": [],
   "source": [
    "import pandas as pd\n",
    "import feast\n",
    "from feast import RepoConfig, FeatureStore\n",
    "from feast.repo_config import RegistryConfig\n",
    "from feast.infra.offline_stores.contrib.postgres_offline_store.postgres import PostgreSQLOfflineStoreConfig\n",
    "from feast.infra.online_stores.redis import RedisOnlineStoreConfig\n",
    "import sys, os\n",
    "sys.path.append(\"..\")\n",
    "\n",
    "from config.config import *\n",
    "from utils.feast_utils import fetch_historical_features_entity_df"
   ]
  },
  {
   "cell_type": "code",
   "execution_count": null,
   "metadata": {},
   "outputs": [],
   "source": [
    "df = pd.read_csv(DATA_URL.format(DRIVER_ORDERS_CSV))"
   ]
  },
  {
   "cell_type": "code",
   "execution_count": null,
   "metadata": {},
   "outputs": [],
   "source": [
    "df"
   ]
  },
  {
   "cell_type": "code",
   "execution_count": null,
   "metadata": {},
   "outputs": [],
   "source": [
    "repo_config = RepoConfig(\n",
    "    registry=\"./data/registry.db\",\n",
    "    project=\"feast\",\n",
    "    provider=\"local\",\n",
    "    offline_store=\"file\",\n",
    "    online_store=\"./data/online_store.db\",\n",
    ")\n",
    "store = FeatureStore(config=repo_config)"
   ]
  },
  {
   "cell_type": "code",
   "execution_count": null,
   "metadata": {},
   "outputs": [],
   "source": [
    "df = fetch_historical_features_entity_df(store, False)"
   ]
  },
  {
   "cell_type": "code",
   "execution_count": null,
   "metadata": {},
   "outputs": [],
   "source": [
    "df.to_df()"
   ]
  },
  {
   "cell_type": "code",
   "execution_count": null,
   "metadata": {},
   "outputs": [],
   "source": [
    "!pip install GitPython"
   ]
  },
  {
   "cell_type": "code",
   "execution_count": null,
   "metadata": {},
   "outputs": [],
   "source": [
    "from git import Repo"
   ]
  },
  {
   "cell_type": "code",
   "execution_count": null,
   "metadata": {},
   "outputs": [],
   "source": [
    "repo_url = \"git@github.com:m1np3m/MLOps-module-3-4.git\"\n",
    "local_path = \"./test_repo_1/\"\n",
    "FORMAT_STRING = \"%Y-%m-%dT%H:%M:%S\"\n",
    "\n",
    "repo = Repo.clone_from(repo_url, local_path)\n",
    "print(repo)"
   ]
  },
  {
   "cell_type": "code",
   "execution_count": null,
   "metadata": {},
   "outputs": [],
   "source": [
    "import os\n",
    "import subprocess\n",
    "from datetime import datetime\n",
    "\n",
    "subprocess.run(\"pwd\")\n",
    "os.chdir(local_path + \"movie-recommendation-system/feast/feature_repo\")\n",
    "subprocess.run(\"pwd\")\n",
    "subprocess.run(\"ls\")\n",
    "now = datetime.now()\n",
    "now = now.strftime(FORMAT_STRING)\n",
    "subprocess.run([\"feast\", \"materialize-incremental\", now])"
   ]
  },
  {
   "cell_type": "code",
   "execution_count": null,
   "metadata": {},
   "outputs": [],
   "source": [
    "diffs = repo.index.diff(None)\n",
    "files = []\n",
    "for d in diffs:\n",
    "    files.append(d.a_path)\n",
    "    print(d.a_path)"
   ]
  },
  {
   "cell_type": "code",
   "execution_count": null,
   "metadata": {},
   "outputs": [],
   "source": [
    "repo.index.add(files)  # notice the add function requires a list of paths"
   ]
  },
  {
   "cell_type": "code",
   "execution_count": null,
   "metadata": {},
   "outputs": [],
   "source": [
    "# $ git commit -m <message>\n",
    "repo.index.commit(\"Update registry.db by python\")"
   ]
  },
  {
   "cell_type": "code",
   "execution_count": null,
   "metadata": {},
   "outputs": [],
   "source": [
    "origin = repo.remote(name='origin')\n",
    "origin.push()"
   ]
  },
  {
   "cell_type": "code",
   "execution_count": null,
   "metadata": {},
   "outputs": [],
   "source": []
  }
 ],
 "metadata": {
  "kernelspec": {
   "display_name": "kf",
   "language": "python",
   "name": "python3"
  },
  "language_info": {
   "codemirror_mode": {
    "name": "ipython",
    "version": 3
   },
   "file_extension": ".py",
   "mimetype": "text/x-python",
   "name": "python",
   "nbconvert_exporter": "python",
   "pygments_lexer": "ipython3",
   "version": "3.10.13"
  }
 },
 "nbformat": 4,
 "nbformat_minor": 2
}
