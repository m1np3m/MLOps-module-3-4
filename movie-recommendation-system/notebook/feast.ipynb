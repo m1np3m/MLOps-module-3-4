{
 "cells": [
  {
   "cell_type": "code",
   "execution_count": 5,
   "metadata": {},
   "outputs": [],
   "source": [
    "import pandas as pd\n",
    "import feast\n",
    "from feast import RepoConfig, FeatureStore\n",
    "from feast.repo_config import RegistryConfig, Re\n",
    "from feast.infra.offline_stores.contrib.postgres_offline_store.postgres import PostgreSQLOfflineStoreConfig\n",
    "from feast.infra.online_stores.redis import RedisOnlineStoreConfig\n",
    "import sys, os\n",
    "sys.path.append(\"..\")\n",
    "\n",
    "from config.config import *"
   ]
  },
  {
   "cell_type": "code",
   "execution_count": null,
   "metadata": {},
   "outputs": [],
   "source": [
    "df = pd.read_csv(DATA_URL.format(DRIVER_ORDERS_CSV))"
   ]
  },
  {
   "cell_type": "code",
   "execution_count": null,
   "metadata": {},
   "outputs": [],
   "source": [
    "df"
   ]
  },
  {
   "cell_type": "code",
   "execution_count": null,
   "metadata": {},
   "outputs": [],
   "source": [
    "repo_config = RepoConfig(\n",
    "    registry=\"local\",\n",
    "    project=\"feast_demo_gcp\",\n",
    "    provider=\"local\",\n",
    "    offline_store=PostgreSQLOfflineStoreConfig(\n",
    "        host=\"localhost\",\n",
    "        database=\"feast\",\n",
    "        user=\"admin\",\n",
    "        password=\"12341234\",\n",
    "    ),  # Could also be the OfflineStoreConfig e.g. FileOfflineStoreConfig\n",
    "    online_store=RedisOnlineStoreConfig(\n",
    "        connection_string=\"redis://redis-master.redis.svc.cluster.local\",\n",
    "    ),  # Could also be the OnlineStoreConfig e.g. RedisOnlineStoreConfig\n",
    ")\n",
    "store = FeatureStore(config=repo_config)"
   ]
  },
  {
   "cell_type": "code",
   "execution_count": 1,
   "metadata": {},
   "outputs": [
    {
     "name": "stdout",
     "output_type": "stream",
     "text": [
      "Collecting wget\n",
      "  Downloading wget-3.2.zip (10 kB)\n",
      "  Preparing metadata (setup.py) ... \u001b[?25ldone\n",
      "\u001b[?25hBuilding wheels for collected packages: wget\n",
      "  Building wheel for wget (setup.py) ... \u001b[?25ldone\n",
      "\u001b[?25h  Created wheel for wget: filename=wget-3.2-py3-none-any.whl size=9655 sha256=af0d33c1166ff9cfda5a89f65093473068700d1a15536c6811e52373a4834738\n",
      "  Stored in directory: /home/manpm/.cache/pip/wheels/8b/f1/7f/5c94f0a7a505ca1c81cd1d9208ae2064675d97582078e6c769\n",
      "Successfully built wget\n",
      "Installing collected packages: wget\n",
      "Successfully installed wget-3.2\n"
     ]
    }
   ],
   "source": [
    "!pip install wget"
   ]
  },
  {
   "cell_type": "code",
   "execution_count": 3,
   "metadata": {},
   "outputs": [],
   "source": [
    "import wget\n",
    "from pathlib import Path\n",
    "\n",
    "# creating a new directory called pythondirectory\n",
    "data_path = \"./data\"\n",
    "url = \"https://github.com/m1np3m/MLOps-module-3-4/raw/main/movie-recommendation-system/feast/feature_repo/data/registry.db\"\n",
    "Path(\"./data\").mkdir(parents=True, exist_ok=True)\n",
    "file = wget.download(url, out=data_path)"
   ]
  },
  {
   "cell_type": "code",
   "execution_count": null,
   "metadata": {},
   "outputs": [],
   "source": []
  }
 ],
 "metadata": {
  "kernelspec": {
   "display_name": "kf",
   "language": "python",
   "name": "python3"
  },
  "language_info": {
   "codemirror_mode": {
    "name": "ipython",
    "version": 3
   },
   "file_extension": ".py",
   "mimetype": "text/x-python",
   "name": "python",
   "nbconvert_exporter": "python",
   "pygments_lexer": "ipython3",
   "version": "3.10.13"
  }
 },
 "nbformat": 4,
 "nbformat_minor": 2
}
