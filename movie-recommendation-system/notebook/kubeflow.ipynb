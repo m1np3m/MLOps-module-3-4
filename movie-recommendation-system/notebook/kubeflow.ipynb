{
 "cells": [
  {
   "cell_type": "code",
   "execution_count": 2,
   "metadata": {},
   "outputs": [],
   "source": [
    "import requests\n",
    "import sys, os\n",
    "import kfp\n",
    "sys.path.append(\"..\")\n",
    "from config.config import *"
   ]
  },
  {
   "cell_type": "code",
   "execution_count": 9,
   "metadata": {},
   "outputs": [
    {
     "name": "stdout",
     "output_type": "stream",
     "text": [
      "Collecting kfp==1.8.22\n",
      "  Downloading kfp-1.8.22.tar.gz (304 kB)\n",
      "\u001b[2K     \u001b[90m━━━━━━━━━━━━━━━━━━━━━━━━━━━━━━━━━━━━━━━\u001b[0m \u001b[32m304.9/304.9 kB\u001b[0m \u001b[31m3.0 MB/s\u001b[0m eta \u001b[36m0:00:00\u001b[0ma \u001b[36m0:00:01\u001b[0m\n",
      "\u001b[?25h  Preparing metadata (setup.py) ... \u001b[?25ldone\n",
      "\u001b[?25hCollecting absl-py<2,>=0.9 (from kfp==1.8.22)\n",
      "  Using cached absl_py-1.4.0-py3-none-any.whl (126 kB)\n",
      "Requirement already satisfied: PyYAML<7,>=5.3 in /home/manpm/miniconda3/envs/kf/lib/python3.10/site-packages (from kfp==1.8.22) (6.0.1)\n",
      "Requirement already satisfied: google-api-core!=2.0.*,!=2.1.*,!=2.2.*,!=2.3.0,<3.0.0dev,>=1.31.5 in /home/manpm/miniconda3/envs/kf/lib/python3.10/site-packages (from kfp==1.8.22) (2.15.0)\n",
      "Requirement already satisfied: google-cloud-storage<3,>=1.20.0 in /home/manpm/miniconda3/envs/kf/lib/python3.10/site-packages (from kfp==1.8.22) (2.14.0)\n",
      "Collecting kubernetes<26,>=8.0.0 (from kfp==1.8.22)\n",
      "  Downloading kubernetes-25.3.0-py2.py3-none-any.whl (1.4 MB)\n",
      "\u001b[2K     \u001b[90m━━━━━━━━━━━━━━━━━━━━━━━━━━━━━━━━━━━━━━━━\u001b[0m \u001b[32m1.4/1.4 MB\u001b[0m \u001b[31m9.2 MB/s\u001b[0m eta \u001b[36m0:00:00\u001b[0ma \u001b[36m0:00:01\u001b[0mm\n",
      "\u001b[?25hCollecting google-api-python-client<2,>=1.7.8 (from kfp==1.8.22)\n",
      "  Downloading google_api_python_client-1.12.11-py2.py3-none-any.whl (62 kB)\n",
      "\u001b[2K     \u001b[90m━━━━━━━━━━━━━━━━━━━━━━━━━━━━━━━━━━━━━━━━\u001b[0m \u001b[32m62.1/62.1 kB\u001b[0m \u001b[31m9.8 MB/s\u001b[0m eta \u001b[36m0:00:00\u001b[0m\n",
      "\u001b[?25hRequirement already satisfied: google-auth<3,>=1.6.1 in /home/manpm/miniconda3/envs/kf/lib/python3.10/site-packages (from kfp==1.8.22) (2.26.1)\n",
      "Requirement already satisfied: requests-toolbelt<1,>=0.8.0 in /home/manpm/miniconda3/envs/kf/lib/python3.10/site-packages (from kfp==1.8.22) (0.10.1)\n",
      "Collecting cloudpickle<3,>=2.0.0 (from kfp==1.8.22)\n",
      "  Downloading cloudpickle-2.2.1-py3-none-any.whl (25 kB)\n",
      "Collecting kfp-server-api<2.0.0,>=1.1.2 (from kfp==1.8.22)\n",
      "  Downloading kfp-server-api-1.8.5.tar.gz (58 kB)\n",
      "\u001b[2K     \u001b[90m━━━━━━━━━━━━━━━━━━━━━━━━━━━━━━━━━━━━━━━━\u001b[0m \u001b[32m58.1/58.1 kB\u001b[0m \u001b[31m13.0 MB/s\u001b[0m eta \u001b[36m0:00:00\u001b[0m\n",
      "\u001b[?25h  Preparing metadata (setup.py) ... \u001b[?25ldone\n",
      "\u001b[?25hCollecting jsonschema<5,>=3.0.1 (from kfp==1.8.22)\n",
      "  Downloading jsonschema-4.20.0-py3-none-any.whl.metadata (8.1 kB)\n",
      "Requirement already satisfied: tabulate<1,>=0.8.6 in /home/manpm/miniconda3/envs/kf/lib/python3.10/site-packages (from kfp==1.8.22) (0.9.0)\n",
      "Requirement already satisfied: click<9,>=7.1.2 in /home/manpm/miniconda3/envs/kf/lib/python3.10/site-packages (from kfp==1.8.22) (8.1.7)\n",
      "Collecting Deprecated<2,>=1.2.7 (from kfp==1.8.22)\n",
      "  Downloading Deprecated-1.2.14-py2.py3-none-any.whl.metadata (5.4 kB)\n",
      "Collecting strip-hints<1,>=0.1.8 (from kfp==1.8.22)\n",
      "  Downloading strip-hints-0.1.10.tar.gz (29 kB)\n",
      "  Preparing metadata (setup.py) ... \u001b[?25ldone\n",
      "\u001b[?25hRequirement already satisfied: docstring-parser<1,>=0.7.3 in /home/manpm/miniconda3/envs/kf/lib/python3.10/site-packages (from kfp==1.8.22) (0.15)\n",
      "Collecting kfp-pipeline-spec<0.2.0,>=0.1.16 (from kfp==1.8.22)\n",
      "  Downloading kfp_pipeline_spec-0.1.16-py3-none-any.whl (19 kB)\n",
      "Collecting fire<1,>=0.3.1 (from kfp==1.8.22)\n",
      "  Downloading fire-0.5.0.tar.gz (88 kB)\n",
      "\u001b[2K     \u001b[90m━━━━━━━━━━━━━━━━━━━━━━━━━━━━━━━━━━━━━━━━\u001b[0m \u001b[32m88.3/88.3 kB\u001b[0m \u001b[31m13.1 MB/s\u001b[0m eta \u001b[36m0:00:00\u001b[0m\n",
      "\u001b[?25h  Preparing metadata (setup.py) ... \u001b[?25ldone\n",
      "\u001b[?25hRequirement already satisfied: protobuf<4,>=3.13.0 in /home/manpm/miniconda3/envs/kf/lib/python3.10/site-packages (from kfp==1.8.22) (3.20.3)\n",
      "Collecting uritemplate<4,>=3.0.1 (from kfp==1.8.22)\n",
      "  Downloading uritemplate-3.0.1-py2.py3-none-any.whl (15 kB)\n",
      "Requirement already satisfied: urllib3<2 in /home/manpm/miniconda3/envs/kf/lib/python3.10/site-packages (from kfp==1.8.22) (1.26.18)\n",
      "Collecting pydantic<2,>=1.8.2 (from kfp==1.8.22)\n",
      "  Downloading pydantic-1.10.13-cp310-cp310-manylinux_2_17_x86_64.manylinux2014_x86_64.whl.metadata (149 kB)\n",
      "\u001b[2K     \u001b[90m━━━━━━━━━━━━━━━━━━━━━━━━━━━━━━━━━━━━━━\u001b[0m \u001b[32m149.6/149.6 kB\u001b[0m \u001b[31m13.1 MB/s\u001b[0m eta \u001b[36m0:00:00\u001b[0m\n",
      "\u001b[?25hCollecting typer<1.0,>=0.3.2 (from kfp==1.8.22)\n",
      "  Downloading typer-0.9.0-py3-none-any.whl (45 kB)\n",
      "\u001b[2K     \u001b[90m━━━━━━━━━━━━━━━━━━━━━━━━━━━━━━━━━━━━━━━━\u001b[0m \u001b[32m45.9/45.9 kB\u001b[0m \u001b[31m11.9 MB/s\u001b[0m eta \u001b[36m0:00:00\u001b[0m\n",
      "\u001b[?25hCollecting wrapt<2,>=1.10 (from Deprecated<2,>=1.2.7->kfp==1.8.22)\n",
      "  Downloading wrapt-1.16.0-cp310-cp310-manylinux_2_5_x86_64.manylinux1_x86_64.manylinux_2_17_x86_64.manylinux2014_x86_64.whl.metadata (6.6 kB)\n",
      "Requirement already satisfied: six in /home/manpm/miniconda3/envs/kf/lib/python3.10/site-packages (from fire<1,>=0.3.1->kfp==1.8.22) (1.16.0)\n",
      "Collecting termcolor (from fire<1,>=0.3.1->kfp==1.8.22)\n",
      "  Downloading termcolor-2.4.0-py3-none-any.whl.metadata (6.1 kB)\n",
      "Requirement already satisfied: googleapis-common-protos<2.0.dev0,>=1.56.2 in /home/manpm/miniconda3/envs/kf/lib/python3.10/site-packages (from google-api-core!=2.0.*,!=2.1.*,!=2.2.*,!=2.3.0,<3.0.0dev,>=1.31.5->kfp==1.8.22) (1.62.0)\n",
      "Requirement already satisfied: requests<3.0.0.dev0,>=2.18.0 in /home/manpm/miniconda3/envs/kf/lib/python3.10/site-packages (from google-api-core!=2.0.*,!=2.1.*,!=2.2.*,!=2.3.0,<3.0.0dev,>=1.31.5->kfp==1.8.22) (2.31.0)\n",
      "Collecting httplib2<1dev,>=0.15.0 (from google-api-python-client<2,>=1.7.8->kfp==1.8.22)\n",
      "  Downloading httplib2-0.22.0-py3-none-any.whl (96 kB)\n",
      "\u001b[2K     \u001b[90m━━━━━━━━━━━━━━━━━━━━━━━━━━━━━━━━━━━━━━━━\u001b[0m \u001b[32m96.9/96.9 kB\u001b[0m \u001b[31m13.5 MB/s\u001b[0m eta \u001b[36m0:00:00\u001b[0m\n",
      "\u001b[?25hCollecting google-auth-httplib2>=0.0.3 (from google-api-python-client<2,>=1.7.8->kfp==1.8.22)\n",
      "  Downloading google_auth_httplib2-0.2.0-py2.py3-none-any.whl.metadata (2.2 kB)\n",
      "Requirement already satisfied: cachetools<6.0,>=2.0.0 in /home/manpm/miniconda3/envs/kf/lib/python3.10/site-packages (from google-auth<3,>=1.6.1->kfp==1.8.22) (5.3.2)\n",
      "Requirement already satisfied: pyasn1-modules>=0.2.1 in /home/manpm/miniconda3/envs/kf/lib/python3.10/site-packages (from google-auth<3,>=1.6.1->kfp==1.8.22) (0.3.0)\n",
      "Requirement already satisfied: rsa<5,>=3.1.4 in /home/manpm/miniconda3/envs/kf/lib/python3.10/site-packages (from google-auth<3,>=1.6.1->kfp==1.8.22) (4.9)\n",
      "Requirement already satisfied: google-cloud-core<3.0dev,>=2.3.0 in /home/manpm/miniconda3/envs/kf/lib/python3.10/site-packages (from google-cloud-storage<3,>=1.20.0->kfp==1.8.22) (2.4.1)\n",
      "Requirement already satisfied: google-resumable-media>=2.6.0 in /home/manpm/miniconda3/envs/kf/lib/python3.10/site-packages (from google-cloud-storage<3,>=1.20.0->kfp==1.8.22) (2.7.0)\n",
      "Requirement already satisfied: google-crc32c<2.0dev,>=1.0 in /home/manpm/miniconda3/envs/kf/lib/python3.10/site-packages (from google-cloud-storage<3,>=1.20.0->kfp==1.8.22) (1.5.0)\n",
      "Collecting attrs>=22.2.0 (from jsonschema<5,>=3.0.1->kfp==1.8.22)\n",
      "  Downloading attrs-23.2.0-py3-none-any.whl.metadata (9.5 kB)\n",
      "Collecting jsonschema-specifications>=2023.03.6 (from jsonschema<5,>=3.0.1->kfp==1.8.22)\n",
      "  Downloading jsonschema_specifications-2023.12.1-py3-none-any.whl.metadata (3.0 kB)\n",
      "Collecting referencing>=0.28.4 (from jsonschema<5,>=3.0.1->kfp==1.8.22)\n",
      "  Downloading referencing-0.32.1-py3-none-any.whl.metadata (2.7 kB)\n",
      "Collecting rpds-py>=0.7.1 (from jsonschema<5,>=3.0.1->kfp==1.8.22)\n",
      "  Downloading rpds_py-0.16.2-cp310-cp310-manylinux_2_17_x86_64.manylinux2014_x86_64.whl.metadata (4.1 kB)\n",
      "Requirement already satisfied: certifi in /home/manpm/miniconda3/envs/kf/lib/python3.10/site-packages (from kfp-server-api<2.0.0,>=1.1.2->kfp==1.8.22) (2023.11.17)\n",
      "Requirement already satisfied: python-dateutil in /home/manpm/miniconda3/envs/kf/lib/python3.10/site-packages (from kfp-server-api<2.0.0,>=1.1.2->kfp==1.8.22) (2.8.2)\n",
      "Requirement already satisfied: setuptools>=21.0.0 in /home/manpm/miniconda3/envs/kf/lib/python3.10/site-packages (from kubernetes<26,>=8.0.0->kfp==1.8.22) (68.2.2)\n",
      "Requirement already satisfied: websocket-client!=0.40.0,!=0.41.*,!=0.42.*,>=0.32.0 in /home/manpm/miniconda3/envs/kf/lib/python3.10/site-packages (from kubernetes<26,>=8.0.0->kfp==1.8.22) (1.7.0)\n",
      "Requirement already satisfied: requests-oauthlib in /home/manpm/miniconda3/envs/kf/lib/python3.10/site-packages (from kubernetes<26,>=8.0.0->kfp==1.8.22) (1.3.1)\n",
      "Requirement already satisfied: typing-extensions>=4.2.0 in /home/manpm/miniconda3/envs/kf/lib/python3.10/site-packages (from pydantic<2,>=1.8.2->kfp==1.8.22) (4.9.0)\n",
      "Requirement already satisfied: wheel in /home/manpm/miniconda3/envs/kf/lib/python3.10/site-packages (from strip-hints<1,>=0.1.8->kfp==1.8.22) (0.41.2)\n",
      "Requirement already satisfied: pyparsing!=3.0.0,!=3.0.1,!=3.0.2,!=3.0.3,<4,>=2.4.2 in /home/manpm/miniconda3/envs/kf/lib/python3.10/site-packages (from httplib2<1dev,>=0.15.0->google-api-python-client<2,>=1.7.8->kfp==1.8.22) (3.1.1)\n",
      "Requirement already satisfied: pyasn1<0.6.0,>=0.4.6 in /home/manpm/miniconda3/envs/kf/lib/python3.10/site-packages (from pyasn1-modules>=0.2.1->google-auth<3,>=1.6.1->kfp==1.8.22) (0.5.1)\n",
      "Requirement already satisfied: charset-normalizer<4,>=2 in /home/manpm/miniconda3/envs/kf/lib/python3.10/site-packages (from requests<3.0.0.dev0,>=2.18.0->google-api-core!=2.0.*,!=2.1.*,!=2.2.*,!=2.3.0,<3.0.0dev,>=1.31.5->kfp==1.8.22) (3.3.2)\n",
      "Requirement already satisfied: idna<4,>=2.5 in /home/manpm/miniconda3/envs/kf/lib/python3.10/site-packages (from requests<3.0.0.dev0,>=2.18.0->google-api-core!=2.0.*,!=2.1.*,!=2.2.*,!=2.3.0,<3.0.0dev,>=1.31.5->kfp==1.8.22) (3.6)\n",
      "Requirement already satisfied: oauthlib>=3.0.0 in /home/manpm/miniconda3/envs/kf/lib/python3.10/site-packages (from requests-oauthlib->kubernetes<26,>=8.0.0->kfp==1.8.22) (3.2.2)\n",
      "Downloading Deprecated-1.2.14-py2.py3-none-any.whl (9.6 kB)\n",
      "Downloading jsonschema-4.20.0-py3-none-any.whl (84 kB)\n",
      "\u001b[2K   \u001b[90m━━━━━━━━━━━━━━━━━━━━━━━━━━━━━━━━━━━━━━━━\u001b[0m \u001b[32m84.7/84.7 kB\u001b[0m \u001b[31m12.2 MB/s\u001b[0m eta \u001b[36m0:00:00\u001b[0m\n",
      "\u001b[?25hDownloading pydantic-1.10.13-cp310-cp310-manylinux_2_17_x86_64.manylinux2014_x86_64.whl (3.1 MB)\n",
      "\u001b[2K   \u001b[90m━━━━━━━━━━━━━━━━━━━━━━━━━━━━━━━━━━━━━━━━\u001b[0m \u001b[32m3.1/3.1 MB\u001b[0m \u001b[31m9.0 MB/s\u001b[0m eta \u001b[36m0:00:00\u001b[0m00:01\u001b[0m00:01\u001b[0mm\n",
      "\u001b[?25hDownloading attrs-23.2.0-py3-none-any.whl (60 kB)\n",
      "\u001b[2K   \u001b[90m━━━━━━━━━━━━━━━━━━━━━━━━━━━━━━━━━━━━━━━━\u001b[0m \u001b[32m60.8/60.8 kB\u001b[0m \u001b[31m8.6 MB/s\u001b[0m eta \u001b[36m0:00:00\u001b[0m\n",
      "\u001b[?25hDownloading google_auth_httplib2-0.2.0-py2.py3-none-any.whl (9.3 kB)\n",
      "Downloading jsonschema_specifications-2023.12.1-py3-none-any.whl (18 kB)\n",
      "Downloading referencing-0.32.1-py3-none-any.whl (26 kB)\n",
      "Downloading rpds_py-0.16.2-cp310-cp310-manylinux_2_17_x86_64.manylinux2014_x86_64.whl (1.2 MB)\n",
      "\u001b[2K   \u001b[90m━━━━━━━━━━━━━━━━━━━━━━━━━━━━━━━━━━━━━━━━\u001b[0m \u001b[32m1.2/1.2 MB\u001b[0m \u001b[31m8.8 MB/s\u001b[0m eta \u001b[36m0:00:00\u001b[0ma \u001b[36m0:00:01\u001b[0m\n",
      "\u001b[?25hDownloading wrapt-1.16.0-cp310-cp310-manylinux_2_5_x86_64.manylinux1_x86_64.manylinux_2_17_x86_64.manylinux2014_x86_64.whl (80 kB)\n",
      "\u001b[2K   \u001b[90m━━━━━━━━━━━━━━━━━━━━━━━━━━━━━━━━━━━━━━━━\u001b[0m \u001b[32m80.3/80.3 kB\u001b[0m \u001b[31m10.0 MB/s\u001b[0m eta \u001b[36m0:00:00\u001b[0m\n",
      "\u001b[?25hDownloading termcolor-2.4.0-py3-none-any.whl (7.7 kB)\n",
      "Building wheels for collected packages: kfp, fire, kfp-server-api, strip-hints\n",
      "  Building wheel for kfp (setup.py) ... \u001b[?25ldone\n",
      "\u001b[?25h  Created wheel for kfp: filename=kfp-1.8.22-py3-none-any.whl size=426966 sha256=d90432ff0f8c7512472cd2cbaaeb8ec65faf8107b9e8ca46688be9e807811f53\n",
      "  Stored in directory: /home/manpm/.cache/pip/wheels/74/c0/fc/bf0ab209fd6ae814d7efbc821076e948c3e4884f846583ab58\n",
      "  Building wheel for fire (setup.py) ... \u001b[?25ldone\n",
      "\u001b[?25h  Created wheel for fire: filename=fire-0.5.0-py2.py3-none-any.whl size=116934 sha256=2be38b0ce8a33fda3a0a7634eb83de6e5b67eb32cfac1d2fcab582260ac5928e\n",
      "  Stored in directory: /home/manpm/.cache/pip/wheels/90/d4/f7/9404e5db0116bd4d43e5666eaa3e70ab53723e1e3ea40c9a95\n",
      "  Building wheel for kfp-server-api (setup.py) ... \u001b[?25ldone\n",
      "\u001b[?25h  Created wheel for kfp-server-api: filename=kfp_server_api-1.8.5-py3-none-any.whl size=99696 sha256=a9ddf261c0ecee2c7c5901c3716f3d37702833e7f58129e74e1b1c436f064a19\n",
      "  Stored in directory: /home/manpm/.cache/pip/wheels/c5/97/d5/e8a0f596dc85f5cfe383c800fbf3e29a99853bb54e01f26fca\n",
      "  Building wheel for strip-hints (setup.py) ... \u001b[?25ldone\n",
      "\u001b[?25h  Created wheel for strip-hints: filename=strip_hints-0.1.10-py2.py3-none-any.whl size=22283 sha256=5e95a6e19eb0e1bb4478cc7bebad2b7aa63eb973b5fc46bb1552e99f730b3a64\n",
      "  Stored in directory: /home/manpm/.cache/pip/wheels/19/fd/dc/1192a4b454695fa9f0c95b17597a44b200d9fcf0eeb771d104\n",
      "Successfully built kfp fire kfp-server-api strip-hints\n",
      "Installing collected packages: wrapt, uritemplate, typer, termcolor, strip-hints, rpds-py, pydantic, kfp-pipeline-spec, httplib2, cloudpickle, attrs, absl-py, referencing, kfp-server-api, fire, Deprecated, kubernetes, jsonschema-specifications, google-auth-httplib2, jsonschema, google-api-python-client, kfp\n",
      "  Attempting uninstall: kfp-pipeline-spec\n",
      "    Found existing installation: kfp-pipeline-spec 0.2.2\n",
      "    Uninstalling kfp-pipeline-spec-0.2.2:\n",
      "      Successfully uninstalled kfp-pipeline-spec-0.2.2\n",
      "  Attempting uninstall: kfp-server-api\n",
      "    Found existing installation: kfp-server-api 2.0.5\n",
      "    Uninstalling kfp-server-api-2.0.5:\n",
      "      Successfully uninstalled kfp-server-api-2.0.5\n",
      "  Attempting uninstall: kubernetes\n",
      "    Found existing installation: kubernetes 26.1.0\n",
      "    Uninstalling kubernetes-26.1.0:\n",
      "      Successfully uninstalled kubernetes-26.1.0\n",
      "  Attempting uninstall: kfp\n",
      "    Found existing installation: kfp 2.3.0\n",
      "    Uninstalling kfp-2.3.0:\n",
      "      Successfully uninstalled kfp-2.3.0\n",
      "\u001b[31mERROR: pip's dependency resolver does not currently take into account all the packages that are installed. This behaviour is the source of the following dependency conflicts.\n",
      "kfp-kubernetes 1.0.0 requires kfp>=2.0.0-beta.13, but you have kfp 1.8.22 which is incompatible.\u001b[0m\u001b[31m\n",
      "\u001b[0mSuccessfully installed Deprecated-1.2.14 absl-py-1.4.0 attrs-23.2.0 cloudpickle-2.2.1 fire-0.5.0 google-api-python-client-1.12.11 google-auth-httplib2-0.2.0 httplib2-0.22.0 jsonschema-4.20.0 jsonschema-specifications-2023.12.1 kfp-1.8.22 kfp-pipeline-spec-0.1.16 kfp-server-api-1.8.5 kubernetes-25.3.0 pydantic-1.10.13 referencing-0.32.1 rpds-py-0.16.2 strip-hints-0.1.10 termcolor-2.4.0 typer-0.9.0 uritemplate-3.0.1 wrapt-1.16.0\n"
     ]
    }
   ],
   "source": [
    "!pip install kfp==1.8.22"
   ]
  },
  {
   "cell_type": "code",
   "execution_count": 3,
   "metadata": {},
   "outputs": [],
   "source": [
    "def get_session_cookie(host, username, password):\n",
    "    session = requests.Session()\n",
    "    response = session.get(host)\n",
    "    headers = {\n",
    "        \"Content-Type\": \"application/x-www-form-urlencoded\",\n",
    "    }\n",
    "\n",
    "    data = {\"login\": username, \"password\": password}\n",
    "    session.post(response.url, headers=headers, data=data)\n",
    "    session_cookie = session.cookies.get_dict()[\"authservice_session\"]\n",
    "\n",
    "    return session_cookie"
   ]
  },
  {
   "cell_type": "code",
   "execution_count": 4,
   "metadata": {},
   "outputs": [],
   "source": [
    "def kfp_client(session_cookie, namespace, host):\n",
    "    \"\"\"\n",
    "    Kubeflow pipelines client. Requires portforwarding to call from localhost.\n",
    "    \"\"\"\n",
    "    client = kfp.Client(\n",
    "        host=f\"{host}/pipeline\",\n",
    "        cookies=f\"authservice_session={session_cookie}\",\n",
    "        namespace=namespace,\n",
    "    )\n",
    "    client._context_setting[\"namespace\"] = namespace\n",
    "\n",
    "    return client"
   ]
  },
  {
   "cell_type": "code",
   "execution_count": 5,
   "metadata": {},
   "outputs": [],
   "source": [
    "cookies = get_session_cookie(HOST, KF_USERNAME, KF_PASSWORD)"
   ]
  },
  {
   "cell_type": "code",
   "execution_count": 6,
   "metadata": {},
   "outputs": [
    {
     "data": {
      "text/plain": [
       "'MTcwNDU2MDQ4MnxOd3dBTkVwV04wOWFNa296UVZsUldWQkdOMGt6VGtNMU5FcFRWRFJCVDBsVlJsQTFRMFpOUWsxTVUwSk9VREpKV0ZWWFdsQTJSVkU9fNDCuQqVFa2Imi0PG5uhaLQQlg8kDw4Zd032BR2dFGB1'"
      ]
     },
     "execution_count": 6,
     "metadata": {},
     "output_type": "execute_result"
    }
   ],
   "source": [
    "cookies"
   ]
  },
  {
   "cell_type": "code",
   "execution_count": 7,
   "metadata": {},
   "outputs": [
    {
     "name": "stderr",
     "output_type": "stream",
     "text": [
      "/home/manpm/miniconda3/envs/kf/lib/python3.10/site-packages/kfp/client/client.py:158: FutureWarning: This client only works with Kubeflow Pipeline v2.0.0-beta.2 and later versions.\n",
      "  warnings.warn(\n"
     ]
    }
   ],
   "source": [
    "client = kfp_client(cookies, \"kubeflow-user\", f\"{HOST}/pipeline\")"
   ]
  },
  {
   "cell_type": "code",
   "execution_count": null,
   "metadata": {},
   "outputs": [],
   "source": [
    "client.create"
   ]
  }
 ],
 "metadata": {
  "kernelspec": {
   "display_name": "kf",
   "language": "python",
   "name": "python3"
  },
  "language_info": {
   "codemirror_mode": {
    "name": "ipython",
    "version": 3
   },
   "file_extension": ".py",
   "mimetype": "text/x-python",
   "name": "python",
   "nbconvert_exporter": "python",
   "pygments_lexer": "ipython3",
   "version": "3.10.13"
  }
 },
 "nbformat": 4,
 "nbformat_minor": 2
}
