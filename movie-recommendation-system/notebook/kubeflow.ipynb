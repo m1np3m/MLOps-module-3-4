{
 "cells": [
  {
   "cell_type": "code",
   "execution_count": 1,
   "metadata": {},
   "outputs": [],
   "source": [
    "import requests\n",
    "import sys, os\n",
    "import kfp\n",
    "from kfp.components import load_component_from_file\n",
    "from kfp.dsl import ExitHandler, RUN_ID_PLACEHOLDER\n",
    "from kubernetes.client.models import V1Volume\n",
    "from kfp import dsl\n",
    "import argparse\n",
    "\n",
    "sys.path.append(\"..\")\n",
    "from utils.kfp_utils import *\n",
    "from config.config import *"
   ]
  },
  {
   "cell_type": "code",
   "execution_count": 2,
   "metadata": {},
   "outputs": [],
   "source": [
    "# !pip install kfp==1.8.22"
   ]
  },
  {
   "cell_type": "markdown",
   "metadata": {},
   "source": [
    "# Pipeline"
   ]
  },
  {
   "cell_type": "code",
   "execution_count": 3,
   "metadata": {},
   "outputs": [],
   "source": [
    "# load components\n",
    "data_downloading_op = load_component_from_file(\n",
    "    f\"{COMPONENTS_DIR}/data_downloading/component.yaml\"\n",
    ")\n",
    "data_preprocessing_op = load_component_from_file(\n",
    "    f\"{COMPONENTS_DIR}/data_preprocessing/component.yaml\"\n",
    ")\n",
    "model_training_op = load_component_from_file(\n",
    "    f\"{COMPONENTS_DIR}/model_training/component.yaml\"\n",
    ")\n",
    "model_evaluation_op = load_component_from_file(\n",
    "    f\"{COMPONENTS_DIR}/model_evaluation/component.yaml\"\n",
    ")\n",
    "feature_store_op = load_component_from_file(\n",
    "    f\"{COMPONENTS_DIR}/feature_store/component.yaml\"\n",
    ")\n",
    "\n",
    "\n",
    "# Define a pipeline and create a task from above components:\n",
    "@dsl.pipeline(name=PIPELINE_NAME, description=PIPELINE_DESCRIPTION)\n",
    "def pipeline(url: str):\n",
    "    # data_downloading_task = data_downloading_op(url=url)\n",
    "    # data_preprocessing_task = data_preprocessing_op(\n",
    "    #     input_df=data_downloading_task.outputs[\"data\"]\n",
    "    # )\n",
    "    # model_training_task = model_training_op(df=data_preprocessing_task.outputs[\"df\"])\n",
    "    # model_evalution_task = model_evaluation_op(\n",
    "    #     df=data_preprocessing_task.outputs[\"df\"],\n",
    "    #     matrix=model_training_task.outputs[\"matrix\"],\n",
    "    #     movie2idx=model_training_task.outputs[\"movie2idx\"],\n",
    "    # )\n",
    "    feature_store_task = feature_store_op(url=url)"
   ]
  },
  {
   "cell_type": "code",
   "execution_count": 4,
   "metadata": {},
   "outputs": [
    {
     "data": {
      "text/html": [
       "<a href=\"http://10.10.10.10:8080/pipeline/#/experiments/details/d6e30260-dc64-4ccd-8184-b843d4105268\" target=\"_blank\" >Experiment details</a>."
      ],
      "text/plain": [
       "<IPython.core.display.HTML object>"
      ]
     },
     "metadata": {},
     "output_type": "display_data"
    },
    {
     "data": {
      "text/html": [
       "<a href=\"http://10.10.10.10:8080/pipeline/#/runs/details/836ee250-f52c-4a29-9db4-4a18f502158d\" target=\"_blank\" >Run details</a>."
      ],
      "text/plain": [
       "<IPython.core.display.HTML object>"
      ]
     },
     "metadata": {},
     "output_type": "display_data"
    },
    {
     "name": "stdout",
     "output_type": "stream",
     "text": [
      "RunPipelineResult(run_id=836ee250-f52c-4a29-9db4-4a18f502158d)\n"
     ]
    }
   ],
   "source": [
    "pipeline_args = {}\n",
    "pipeline_args[\"url\"] = DATA_URL.format(DRIVER_ORDERS_CSV)\n",
    "\n",
    "kf = KubeFlow(\n",
    "    namespace=NAMESPACE,\n",
    "    host=HOST,\n",
    "    username=KF_USERNAME,\n",
    "    password=KF_PASSWORD,\n",
    ")\n",
    "client = kf.client\n",
    "\n",
    "pipeline_package_path = f\"./pipeline_{PIPELINE_VERSION}.yaml\"\n",
    "\n",
    "# pipeline config\n",
    "pipeline_conf = kfp.dsl.PipelineConf()\n",
    "\n",
    "env = {\n",
    "    \"ENVIRONMENT\": {\n",
    "        \"type\": \"string\",\n",
    "        \"value\": \"staging\",\n",
    "    },\n",
    "}\n",
    "_pipeline_conf = PipelineConfig(env)\n",
    "pipeline_conf.add_op_transformer(_pipeline_conf.pipeline_env_variables)\n",
    "pipeline_conf.set_parallelism(NUM_PODS_PARALLEL)\n",
    "# check whether exp existed or not\n",
    "kfp_experiment = kf.get_or_create_experiment(EXPERIMENT_NAME)\n",
    "run_result = client.create_run_from_pipeline_func(\n",
    "    experiment_name=kfp_experiment.name,\n",
    "    pipeline_func=pipeline,\n",
    "    arguments=pipeline_args,\n",
    "    pipeline_conf=pipeline_conf,\n",
    ")\n",
    "print(run_result)"
   ]
  }
 ],
 "metadata": {
  "kernelspec": {
   "display_name": "kf",
   "language": "python",
   "name": "python3"
  },
  "language_info": {
   "codemirror_mode": {
    "name": "ipython",
    "version": 3
   },
   "file_extension": ".py",
   "mimetype": "text/x-python",
   "name": "python",
   "nbconvert_exporter": "python",
   "pygments_lexer": "ipython3",
   "version": "3.10.13"
  }
 },
 "nbformat": 4,
 "nbformat_minor": 2
}
